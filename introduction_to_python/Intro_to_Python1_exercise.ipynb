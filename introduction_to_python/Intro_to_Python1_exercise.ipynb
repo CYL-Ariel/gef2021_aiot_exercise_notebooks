{
 "cells": [
  {
   "cell_type": "markdown",
   "metadata": {
    "id": "I2KP5gAzZ9U6"
   },
   "source": [
    "# Exercise 1"
   ]
  },
  {
   "cell_type": "code",
   "execution_count": 3,
   "metadata": {
    "id": "G44U1WpZZ9U-"
   },
   "outputs": [
    {
     "name": "stdout",
     "output_type": "stream",
     "text": [
      "Hi there! What is your name?\n",
      "Ariel\n",
      "Hi, Ariel\n"
     ]
    }
   ],
   "source": [
    "name = input(\"Hi there! What is your name?\\n\")\n",
    "print(f\"Hi, {name}\")"
   ]
  },
  {
   "cell_type": "markdown",
   "metadata": {
    "id": "OL_g0JKfZ9VE"
   },
   "source": [
    "# Exercise2"
   ]
  },
  {
   "cell_type": "code",
   "execution_count": 5,
   "metadata": {
    "id": "9QWTc4XbZ9VF"
   },
   "outputs": [
    {
     "data": {
      "text/plain": [
       "str"
      ]
     },
     "execution_count": 5,
     "metadata": {},
     "output_type": "execute_result"
    }
   ],
   "source": [
    "b = 12345\n",
    "a = str(b)\n",
    "type(a)"
   ]
  },
  {
   "cell_type": "code",
   "execution_count": 8,
   "metadata": {
    "id": "jDTr_lCnZ9VJ"
   },
   "outputs": [
    {
     "name": "stdout",
     "output_type": "stream",
     "text": [
      "False\n",
      "True\n",
      "True\n",
      "False\n",
      "True\n",
      "True\n"
     ]
    }
   ],
   "source": [
    "print(bool(\"\"))\n",
    "print(bool(\"abc\"))\n",
    "print(bool(1))\n",
    "print(bool(0))\n",
    "print(bool('0'))\n",
    "print(bool(\"$#%@#$%\"))"
   ]
  },
  {
   "cell_type": "markdown",
   "metadata": {
    "id": "of0fLQn7Z9VM"
   },
   "source": [
    "# Exercise3\n"
   ]
  },
  {
   "cell_type": "code",
   "execution_count": 12,
   "metadata": {
    "id": "kIFZzB0LZ9VN"
   },
   "outputs": [],
   "source": [
    "a = 123.45\n",
    "b = '456.78'"
   ]
  },
  {
   "cell_type": "code",
   "execution_count": 13,
   "metadata": {
    "id": "OCkUWcfIZ9VR"
   },
   "outputs": [
    {
     "data": {
      "text/plain": [
       "580.23"
      ]
     },
     "execution_count": 13,
     "metadata": {},
     "output_type": "execute_result"
    }
   ],
   "source": [
    "a + float(b)"
   ]
  },
  {
   "cell_type": "markdown",
   "metadata": {
    "id": "6mq1UBS9Z9VU"
   },
   "source": [
    "# Exercise4"
   ]
  },
  {
   "cell_type": "code",
   "execution_count": 17,
   "metadata": {
    "id": "W_kwTE6OZ9VV"
   },
   "outputs": [
    {
     "name": "stdout",
     "output_type": "stream",
     "text": [
      "The sum of weights is 220, mean of weights is 73.33333333333333.\n"
     ]
    }
   ],
   "source": [
    "WEIGHTS = [60, 70, 90]\n",
    "sumOfWeights = 0\n",
    "for i in WEIGHTS:\n",
    "    sumOfWeights += i\n",
    "print(f'The sum of weights is {sumOfWeights}, mean of weights is {sumOfWeights/len(WEIGHTS)}.')"
   ]
  },
  {
   "cell_type": "markdown",
   "metadata": {
    "id": "9lrFLnwRZ9VY"
   },
   "source": [
    "# Exercise 5"
   ]
  },
  {
   "cell_type": "code",
   "execution_count": 18,
   "metadata": {
    "id": "rMOhYZejZ9VZ"
   },
   "outputs": [
    {
     "name": "stdout",
     "output_type": "stream",
     "text": [
      "True\n",
      "False\n"
     ]
    }
   ],
   "source": [
    "a = 0.1\n",
    "b = 0.1\n",
    "print(a==b)\n",
    "print(a is b)"
   ]
  },
  {
   "cell_type": "markdown",
   "metadata": {
    "id": "Fj5Mxf5UZ9Vd"
   },
   "source": [
    "# Exercise 6"
   ]
  },
  {
   "cell_type": "code",
   "execution_count": 22,
   "metadata": {
    "id": "TU1zRHOLZ9Vf"
   },
   "outputs": [
    {
     "name": "stdout",
     "output_type": "stream",
     "text": [
      "Found the word explicit\n",
      "There are 53 characters, 9 words in the scentence.\n"
     ]
    }
   ],
   "source": [
    "sentence = 'Beautiful is better than ugly. Explicit is better than implicit.'\n",
    "words = sentence.split(\" \")\n",
    "characterCount = 0\n",
    "for word in words:\n",
    "    if word == 'Explicit':\n",
    "        print(\"Found the word explicit\")\n",
    "    for char in word:\n",
    "        if char != '.':\n",
    "            characterCount += 1\n",
    "print(f\"There are {characterCount} characters, {len(word)} words in the scentence.\")"
   ]
  },
  {
   "cell_type": "code",
   "execution_count": null,
   "metadata": {
    "id": "sA7etwODLN61"
   },
   "outputs": [],
   "source": []
  },
  {
   "cell_type": "markdown",
   "metadata": {
    "id": "iDG62IqhZ9Vn"
   },
   "source": [
    "# Exercise7"
   ]
  },
  {
   "cell_type": "code",
   "execution_count": 24,
   "metadata": {
    "id": "-BpuGBxKZ9Vo"
   },
   "outputs": [
    {
     "name": "stdout",
     "output_type": "stream",
     "text": [
      "<class 'int'>\n",
      "<class 'int'>\n"
     ]
    }
   ],
   "source": [
    "number = (1)\n",
    "print(type(1))\n",
    "number = (1,)\n",
    "print(type(1))"
   ]
  },
  {
   "cell_type": "markdown",
   "metadata": {
    "id": "zZGm0kx5Z9Vs"
   },
   "source": [
    "# Exercise8"
   ]
  },
  {
   "cell_type": "code",
   "execution_count": 27,
   "metadata": {
    "id": "fhFtP0NMZ9Vt"
   },
   "outputs": [],
   "source": [
    "student = {'name':'Mary', 'age':22, 'name':'Peter'}"
   ]
  },
  {
   "cell_type": "code",
   "execution_count": 28,
   "metadata": {
    "id": "y1RpnXh4MiWS"
   },
   "outputs": [
    {
     "name": "stdout",
     "output_type": "stream",
     "text": [
      "Peter\n",
      "{'name': 'Peter', 'age': 22}\n"
     ]
    }
   ],
   "source": [
    "print(student['name'])\n",
    "print(student)"
   ]
  },
  {
   "cell_type": "markdown",
   "metadata": {
    "id": "ng9CbysaZ9Vw"
   },
   "source": [
    "# Exercise9"
   ]
  },
  {
   "cell_type": "code",
   "execution_count": 36,
   "metadata": {
    "id": "8x_4z2U0Z9Vy"
   },
   "outputs": [
    {
     "name": "stdout",
     "output_type": "stream",
     "text": [
      "Please enter a phone number:    12345678\n",
      "The input number is 12345678\n"
     ]
    }
   ],
   "source": [
    "phoneNumberToTest = input('Please enter a phone number:    ')\n",
    "print(\"The input number is \" + phoneNumberToTest)"
   ]
  },
  {
   "cell_type": "code",
   "execution_count": 39,
   "metadata": {
    "id": "AR-ELqvANQqo"
   },
   "outputs": [
    {
     "name": "stdout",
     "output_type": "stream",
     "text": [
      "It is not a valid phone number.\n"
     ]
    }
   ],
   "source": [
    "if len(phoneNumberToTest) == 8 and phoneNumberToTest[0] in ['2','3','5','6','9']:\n",
    "    try:\n",
    "        phoneNumberToTest = int(phoneNumberToTest)\n",
    "        print(\"It is a valid phone number.\")\n",
    "    except Exception as e:\n",
    "        print(\"It is not a valid phone number\")\n",
    "else:\n",
    "    print(\"It is not a valid phone number.\")"
   ]
  },
  {
   "cell_type": "markdown",
   "metadata": {
    "id": "FH80WJizZ9V0"
   },
   "source": [
    "# Exercise10"
   ]
  },
  {
   "cell_type": "code",
   "execution_count": 49,
   "metadata": {},
   "outputs": [
    {
     "name": "stdout",
     "output_type": "stream",
     "text": [
      "11\n",
      "13\n",
      "15\n",
      "17\n",
      "19\n",
      "21\n",
      "23\n",
      "25\n"
     ]
    }
   ],
   "source": [
    "for i in range(11,26,2):\n",
    "    print(i)"
   ]
  },
  {
   "cell_type": "markdown",
   "metadata": {},
   "source": [
    "# Exercise 11"
   ]
  },
  {
   "cell_type": "code",
   "execution_count": 45,
   "metadata": {
    "id": "7SLb0xcYZ9V1"
   },
   "outputs": [
    {
     "name": "stdout",
     "output_type": "stream",
     "text": [
      "Please enter a phone number:    65218819\n",
      "The input number is 65218819\n",
      "It is a valid phone number.\n"
     ]
    }
   ],
   "source": [
    "while True:\n",
    "    phoneNumberToTest = input('Please enter a phone number:    ')\n",
    "    print(\"The input number is \" + phoneNumberToTest)\n",
    "    if len(phoneNumberToTest) == 8 and phoneNumberToTest[0] in ['2','3','5','6','9']:\n",
    "        try:\n",
    "            phoneNumberToTest = int(phoneNumberToTest)\n",
    "            print(\"It is a valid phone number.\")\n",
    "            break\n",
    "        except Exception as e:\n",
    "            print(\"It is not a valid phone number\")\n",
    "    else:\n",
    "        print(\"It is not a valid phone number.\")"
   ]
  },
  {
   "cell_type": "markdown",
   "metadata": {
    "id": "F6_d7iGHYegB"
   },
   "source": [
    "# Exercise12\n"
   ]
  },
  {
   "cell_type": "code",
   "execution_count": 1,
   "metadata": {
    "id": "Ki5FT_M_YhOz"
   },
   "outputs": [
    {
     "name": "stdout",
     "output_type": "stream",
     "text": [
      "arr before sorting: [5, 3, 8, 7, 1]\n",
      "arr after sorting: [1, 3, 5, 7, 8]\n"
     ]
    }
   ],
   "source": [
    "import numpy as np\n",
    "\n",
    "arr = [5,3,8,7,1]\n",
    "#arr = np.random.randint(0,1000,10) #Uncommment this line to generate an array of random integers\n",
    "\n",
    "print('arr before sorting:', arr)\n",
    "\n",
    "#====================================================\n",
    "#Write your insertion sort here\n",
    "\n",
    "for _ in range(len(arr) - 1):\n",
    "    for i in range(len(arr) - 1):\n",
    "        if arr[i] > arr [i + 1]:\n",
    "            arr[i], arr[i + 1] = arr[i + 1], arr[i]\n",
    "\n",
    "#====================================================\n",
    "\n",
    "print('arr after sorting:', arr)"
   ]
  },
  {
   "cell_type": "code",
   "execution_count": null,
   "metadata": {
    "id": "FhnlHbOglAn-"
   },
   "outputs": [],
   "source": []
  }
 ],
 "metadata": {
  "colab": {
   "collapsed_sections": [],
   "name": "Intro_to_Python1_exercise.ipynb",
   "provenance": []
  },
  "kernelspec": {
   "display_name": "Python 3",
   "language": "python",
   "name": "python3"
  },
  "language_info": {
   "codemirror_mode": {
    "name": "ipython",
    "version": 3
   },
   "file_extension": ".py",
   "mimetype": "text/x-python",
   "name": "python",
   "nbconvert_exporter": "python",
   "pygments_lexer": "ipython3",
   "version": "3.8.3"
  }
 },
 "nbformat": 4,
 "nbformat_minor": 1
}
